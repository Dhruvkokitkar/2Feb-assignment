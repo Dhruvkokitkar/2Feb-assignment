{
 "cells": [
  {
   "cell_type": "code",
   "execution_count": 2,
   "id": "bf86890d-6c30-4789-94f5-41c168d62b10",
   "metadata": {},
   "outputs": [],
   "source": [
    "''' 1 For Loop: A for loop is an iteration method that is best used when you know the number of iterations ahead of time. ...\n",
    "While Loop: A while loop is an iteration method that is best used when you don't know the number of iterations ahead of time.'''\n",
    "\n",
    "l1 = [\"mihir\" , \"shanbhag\" , \"pratik\" , \"patil\"]"
   ]
  },
  {
   "cell_type": "code",
   "execution_count": 3,
   "id": "2d678caa-14ad-411c-9c79-4ba90100865f",
   "metadata": {},
   "outputs": [
    {
     "name": "stdout",
     "output_type": "stream",
     "text": [
      "mihir\n",
      "shanbhag\n",
      "pratik\n"
     ]
    }
   ],
   "source": [
    "#1\n",
    "for i in l1:\n",
    "    if i == \"patil\":\n",
    "        break\n",
    "    print(i)\n",
    "else :\n",
    "    print(\"Execute this for loop is able to complete itself\")"
   ]
  },
  {
   "cell_type": "code",
   "execution_count": null,
   "id": "97d0dae2-2385-4261-bd2a-008fadd6bd51",
   "metadata": {},
   "outputs": [],
   "source": [
    "# Sum of natural numbers up to num\n",
    "\n",
    "num = 16\n",
    "\n",
    "if num < 0:\n",
    "   print(\"Enter a positive number\")\n",
    "else:\n",
    "   sum = 0\n",
    "   # use while loop to iterate until zero\n",
    "   while(num > 0):\n",
    "       sum += num\n",
    "       num -= 1\n",
    "   print(\"The sum is\", sum)"
   ]
  }
 ],
 "metadata": {
  "kernelspec": {
   "display_name": "Python 3 (ipykernel)",
   "language": "python",
   "name": "python3"
  },
  "language_info": {
   "codemirror_mode": {
    "name": "ipython",
    "version": 3
   },
   "file_extension": ".py",
   "mimetype": "text/x-python",
   "name": "python",
   "nbconvert_exporter": "python",
   "pygments_lexer": "ipython3",
   "version": "3.10.8"
  }
 },
 "nbformat": 4,
 "nbformat_minor": 5
}
